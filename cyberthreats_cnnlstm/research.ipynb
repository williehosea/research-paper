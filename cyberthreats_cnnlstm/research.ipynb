{
 "cells": [
  {
   "cell_type": "code",
   "execution_count": null,
   "id": "61c54eff",
   "metadata": {},
   "outputs": [],
   "source": [
    "pip install pandas numpy scikit-learn matplotlib tensorflow"
   ]
  },
  {
   "cell_type": "code",
   "execution_count": null,
   "id": "f9b5bebc",
   "metadata": {},
   "outputs": [],
   "source": [
    "import pandas as pd\n",
    "import numpy as np\n",
    "from sklearn.model_selection import train_test_split\n",
    "from sklearn.preprocessing import LabelEncoder, StandardScaler\n",
    "from sklearn.metrics import classification_report, accuracy_score, precision_score, recall_score, f1_score\n",
    "from tensorflow.keras.utils import to_categorical\n",
    "from tensorflow.keras.models import Sequential\n",
    "from tensorflow.keras.layers import Dense, Dropout, Flatten, Conv1D, MaxPooling1D, LSTM\n",
    "from tensorflow.keras.callbacks import EarlyStopping\n",
    "import matplotlib.pyplot as plt"
   ]
  },
  {
   "cell_type": "code",
   "execution_count": null,
   "id": "ed0b71b8",
   "metadata": {},
   "outputs": [],
   "source": [
    "df = pd.read_csv(\"All.csv\")\n",
    "df.dropna(inplace=True)\n",
    "\n",
    "X = df.drop(\"URL_Type_obf_Type\", axis=1)\n",
    "y = df[\"URL_Type_obf_Type\"]"
   ]
  },
  {
   "cell_type": "code",
   "execution_count": null,
   "metadata": {},
   "outputs": [],
   "source": [
    "le = LabelEncoder()\n",
    "y_encoded = le.fit_transform(y)\n",
    "y_cat = to_categorical(y_encoded)"
   ]
  },
  {
   "cell_type": "code",
   "execution_count": null,
   "id": "8a771997",
   "metadata": {},
   "outputs": [],
   "source": [
    "scaler = StandardScaler()\n",
    "X_scaled = scaler.fit_transform(X)\n",
    "X_reshaped = X_scaled.reshape(X_scaled.shape[0], X_scaled.shape[1], 1)"
   ]
  },
  {
   "cell_type": "code",
   "execution_count": null,
   "metadata": {},
   "outputs": [],
   "source": [
    "X_train, X_test, y_train, y_test = train_test_split(X_reshaped, y_cat, test_size=0.2, stratify=y_cat, random_state=42)"
   ]
  },
  {
   "cell_type": "code",
   "execution_count": null,
   "id": "56e19aa9",
   "metadata": {},
   "outputs": [],
   "source": [
    "#defining\n",
    "def cnn_model(input_shape, num_classes):\n",
    "    model = Sequential([\n",
    "        Conv1D(64, 3, activation='relu', input_shape=input_shape),\n",
    "        MaxPooling1D(2),\n",
    "        Flatten(),\n",
    "        Dense(64, activation='relu'),\n",
    "        Dropout(0.5),\n",
    "        Dense(num_classes, activation='softmax')\n",
    "    ])\n",
    "    model.compile(optimizer=\"adam\", loss=\"categorical_crossentropy\", metrics=[\"accuracy\"])\n",
    "    return model\n",
    "\n",
    "def lstm_model(input_shape, num_classes):\n",
    "    model = Sequential([\n",
    "        LSTM(64, input_shape=input_shape),\n",
    "        Dense(64, activation='relu'),\n",
    "        Dropout(0.5),\n",
    "        Dense(num_classes, activation='softmax')\n",
    "    ])\n",
    "    model.compile(optimizer=\"adam\", loss=\"categorical_crossentropy\", metrics=[\"accuracy\"])\n",
    "    return model\n",
    "\n",
    "def cnn_lstm_model(input_shape, num_classes):\n",
    "    model = Sequential([\n",
    "        Conv1D(64, 3, activation='relu', input_shape=input_shape),\n",
    "        MaxPooling1D(2),\n",
    "        LSTM(64),\n",
    "        Dense(64, activation='relu'),\n",
    "        Dropout(0.5),\n",
    "        Dense(num_classes, activation='softmax')\n",
    "    ])\n",
    "    model.compile(optimizer=\"adam\", loss=\"categorical_crossentropy\", metrics=[\"accuracy\"])\n",
    "    return model"
   ]
  },
  {
   "cell_type": "code",
   "execution_count": null,
   "id": "cec2490a",
   "metadata": {},
   "outputs": [],
   "source": [
    "#training\n",
    "input_shape = (X_train.shape[1], 1)\n",
    "num_classes = y_cat.shape[1]\n",
    "\n",
    "cnn = cnn_model(input_shape, num_classes)\n",
    "lstm = lstm_model(input_shape, num_classes)\n",
    "cnn_lstm = cnn_lstm_model(input_shape, num_classes)\n",
    "\n",
    "history_cnn = cnn.fit(X_train, y_train, validation_data=(X_test, y_test), epochs=100, batch_size=64, verbose=0, callbacks=callbacks)\n",
    "history_lstm = lstm.fit(X_train, y_train, validation_data=(X_test, y_test), epochs=100, batch_size=64, verbose=0, callbacks=callbacks)\n",
    "history_cnn_lstm = cnn_lstm.fit(X_train, y_train, validation_data=(X_test, y_test), epochs=100, batch_size=64, verbose=0, callbacks=callbacks)"
   ]
  },
  {
   "cell_type": "code",
   "execution_count": null,
   "metadata": {},
   "outputs": [],
   "source": [
    "def evaluate_model(model, X_test, y_test, model_name):\n",
    "    y_pred = model.predict(X_test)\n",
    "    y_pred_labels = np.argmax(y_pred, axis=1)\n",
    "    y_true_labels = np.argmax(y_test, axis=1)\n",
    "\n",
    "    acc = accuracy_score(y_true_labels, y_pred_labels)\n",
    "    prec = precision_score(y_true_labels, y_pred_labels, average='macro')\n",
    "    rec = recall_score(y_true_labels, y_pred_labels, average='macro')\n",
    "    f1 = f1_score(y_true_labels, y_pred_labels, average='macro')\n",
    "    loss = model.evaluate(X_test, y_test, verbose=0)[0]\n",
    "\n",
    "    print(f\"\\nClassification Report for {model_name}:\\n\")\n",
    "    print(classification_report(y_true_labels, y_pred_labels, target_names=le.classes_))\n",
    "\n",
    "    return {\n",
    "        'Model': model_name,\n",
    "        'Accuracy': acc,\n",
    "        'Precision': prec,\n",
    "        'Recall': rec,\n",
    "        'F1-Score': f1,\n",
    "        'Loss': loss\n",
    "    }"
   ]
  },
  {
   "cell_type": "code",
   "execution_count": null,
   "id": "2f2f4dbd",
   "metadata": {},
   "outputs": [],
   "source": [
    "cnn_metrics = evaluate_model(cnn, X_test, y_test, 'CNN')\n",
    "lstm_metrics = evaluate_model(lstm, X_test, y_test, 'LSTM')\n",
    "cnn_lstm_metrics = evaluate_model(cnn_lstm, X_test, y_test, 'CNN+LSTM')"
   ]
  },
  {
   "cell_type": "code",
   "execution_count": null,
   "id": "13b4866c",
   "metadata": {},
   "outputs": [],
   "source": [
    "def plot_grouped_metrics(metrics_list):\n",
    "    import matplotlib.pyplot as plt\n",
    "    import numpy as np\n",
    "\n",
    "    metrics_names = ['Accuracy', 'Precision', 'Recall', 'F1-Score', 'Loss']\n",
    "    model_names = [m['Model'] for m in metrics_list]\n",
    "    num_metrics = len(metrics_names)\n",
    "    num_models = len(model_names)\n",
    "\n",
    "    # Set bar width and positions\n",
    "    bar_width = 0.25\n",
    "    index = np.arange(num_metrics)\n",
    "\n",
    "    # Extract metric values per model\n",
    "    model_scores = []\n",
    "    for m in metrics_list:\n",
    "        scores = [m[metric] * 100 if metric != 'Loss' else m[metric] for metric in metrics_names]\n",
    "        model_scores.append(scores)\n",
    "\n",
    "    # Plotting\n",
    "    plt.figure(figsize=(10, 6))\n",
    "    colors = ['#1f77b4', '#ff7f0e', '#2ca02c']  # Customize for more models\n",
    "    for i in range(num_models):\n",
    "        plt.bar(index + i * bar_width, model_scores[i], width=bar_width, label=model_names[i], color=colors[i % len(colors)])\n",
    "\n",
    "    # Labels and settings\n",
    "    plt.xlabel('Metrics', fontsize=12)\n",
    "    plt.ylabel('Score', fontsize=12)\n",
    "    plt.title('Performance Comparison: CNN vs LSTM vs CNN+LSTM', fontsize=14)\n",
    "    plt.xticks(index + bar_width, metrics_names)\n",
    "    plt.ylim(0, 110)\n",
    "    plt.legend()\n",
    "    plt.grid(axis='y', linestyle='--', alpha=0.6)\n",
    "\n",
    "    # Annotate values on top of bars\n",
    "    for i in range(num_models):\n",
    "        for j in range(num_metrics):\n",
    "            value = model_scores[i][j]\n",
    "            plt.text(index[j] + i * bar_width, value + 1, f'{value:.2f}', ha='center', va='bottom', fontsize=8)\n",
    "\n",
    "    plt.tight_layout()\n",
    "    plt.show()\n",
    "\n",
    "# Call the function\n",
    "plot_grouped_metrics(all_metrics)\n"
   ]
  }
 ],
 "metadata": {
  "kernelspec": {
   "display_name": "Python 3",
   "language": "python",
   "name": "python3"
  },
  "language_info": {
   "name": "python",
   "version": "-1.-1.-1"
  }
 },
 "nbformat": 4,
 "nbformat_minor": 5
}
